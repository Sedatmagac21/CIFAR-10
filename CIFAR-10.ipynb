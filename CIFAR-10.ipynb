{
 "cells": [
  {
   "cell_type": "code",
   "execution_count": 14,
   "id": "c9a4456f-c03f-4ca3-a9ab-16a22c398d8f",
   "metadata": {},
   "outputs": [],
   "source": [
    "#!pip install tensorflow\n",
    "import numpy as np\n",
    "import tensorflow as tf\n",
    "from tensorflow.keras import layers, models\n",
    "from tensorflow.keras.datasets import cifar10\n",
    "from tensorflow.keras.utils import to_categorical\n",
    "from sklearn.model_selection import train_test_split\n",
    "from sklearn.metrics import classification_report, f1_score\n",
    "from tensorflow.keras.preprocessing.image import ImageDataGenerator\n",
    "from tensorflow.keras.callbacks import EarlyStopping, ReduceLROnPlateau\n",
    "random_seed = 42\n",
    "np.random.seed(random_seed)\n",
    "tf.random.set_seed(random_seed)\n",
    "import warnings\n",
    "warnings.filterwarnings(\"ignore\")"
   ]
  },
  {
   "cell_type": "markdown",
   "id": "af8ff8c2-2aa2-4a9e-99d3-2ab51317f1f3",
   "metadata": {},
   "source": [
    "## Veri setini indirme"
   ]
  },
  {
   "cell_type": "code",
   "execution_count": 15,
   "id": "75bcf2c4-96d2-4399-8485-ab66326374cb",
   "metadata": {},
   "outputs": [],
   "source": [
    "(x_train, y_train), (x_test, y_test) = cifar10.load_data()"
   ]
  },
  {
   "cell_type": "markdown",
   "id": "13c7961c-fa35-413d-a268-d732b71656ea",
   "metadata": {},
   "source": [
    "### CIFAR-10 veri seti, sınıf başına 6000 resim olmak üzere 10 sınıfta 60000 adet 32x32 renkli resimden oluşur. 50000 eğitim resmi ve 10000 test resmi vardır.\r\n"
   ]
  },
  {
   "cell_type": "markdown",
   "id": "d44fdc20-ef0e-4d2e-8ecf-52228de35237",
   "metadata": {},
   "source": [
    "## Normalizasyon"
   ]
  },
  {
   "cell_type": "code",
   "execution_count": 16,
   "id": "e29e0865-fdcf-4725-8458-bb2f1bd06faf",
   "metadata": {},
   "outputs": [],
   "source": [
    "mean = np.mean(x_train, axis=(0,1,2,3))\n",
    "std = np.std(x_train, axis=(0,1,2,3))\n",
    "x_train = (x_train - mean) / std\n",
    "x_test = (x_test - mean) / std"
   ]
  },
  {
   "cell_type": "markdown",
   "id": "f2bdbbbc-2002-42aa-9f29-7e9ff4a64c92",
   "metadata": {},
   "source": [
    "##  One-hot encoding uygulama"
   ]
  },
  {
   "cell_type": "code",
   "execution_count": 17,
   "id": "b098bc12-d02f-4edc-846c-ca4d0d0851e4",
   "metadata": {},
   "outputs": [],
   "source": [
    "y_train = to_categorical(y_train, num_classes=10)\n",
    "y_test = to_categorical(y_test, num_classes=10)"
   ]
  },
  {
   "cell_type": "markdown",
   "id": "f1f42616-b07e-49b6-bb09-0d60d6d7752e",
   "metadata": {},
   "source": [
    "## Veri setini ayırma"
   ]
  },
  {
   "cell_type": "code",
   "execution_count": 18,
   "id": "7139accf-58a1-40e0-9576-2951a8c2b742",
   "metadata": {},
   "outputs": [],
   "source": [
    "x_train, x_val, y_train, y_val = train_test_split(x_train, y_train, test_size=0.1, random_state=random_seed)"
   ]
  },
  {
   "cell_type": "markdown",
   "id": "271e3cdd-2503-4738-a819-e607c0212a4d",
   "metadata": {},
   "source": [
    "## Veri artırma"
   ]
  },
  {
   "cell_type": "code",
   "execution_count": 19,
   "id": "c932b83e-9fa8-402c-8e8c-b2fc3190a2bd",
   "metadata": {},
   "outputs": [],
   "source": [
    "datagen = ImageDataGenerator(\n",
    "    rotation_range=15,\n",
    "    width_shift_range=0.1,\n",
    "    height_shift_range=0.1,\n",
    "    horizontal_flip=True\n",
    ")\n",
    "datagen.fit(x_train)"
   ]
  },
  {
   "cell_type": "markdown",
   "id": "81a78702-dd3d-4b9b-9565-79fe915301b2",
   "metadata": {},
   "source": [
    "## Model Kurma"
   ]
  },
  {
   "cell_type": "markdown",
   "id": "b816609f-78ac-49fe-bad6-d0393ce746d5",
   "metadata": {},
   "source": [
    "### Evrişim + BatchNorm + MaxPooling + Dropout katmanları kullanıldı"
   ]
  },
  {
   "cell_type": "code",
   "execution_count": 20,
   "id": "4f97ffe1-383a-4972-8ca6-63a26c617e1c",
   "metadata": {},
   "outputs": [],
   "source": [
    "model = models.Sequential()\n",
    "model.add(layers.Conv2D(32, (3, 3), activation='relu', padding='same', input_shape=(32, 32, 3)))\n",
    "model.add(layers.BatchNormalization())\n",
    "model.add(layers.MaxPooling2D((2, 2)))\n",
    "model.add(layers.Dropout(0.3))\n",
    "\n",
    "model.add(layers.Conv2D(64, (3, 3), activation='relu', padding='same'))\n",
    "model.add(layers.BatchNormalization())\n",
    "model.add(layers.MaxPooling2D((2, 2)))\n",
    "model.add(layers.Dropout(0.4))\n",
    "\n",
    "model.add(layers.Conv2D(128, (3, 3), activation='relu', padding='same'))\n",
    "model.add(layers.BatchNormalization())\n",
    "model.add(layers.MaxPooling2D((2, 2)))\n",
    "model.add(layers.Dropout(0.5))\n",
    "\n",
    "model.add(layers.Flatten())\n",
    "\n",
    "model.add(layers.Dense(128, activation='relu'))\n",
    "model.add(layers.BatchNormalization())\n",
    "model.add(layers.Dropout(0.5))\n",
    "\n",
    "model.add(layers.Dense(10, activation='softmax'))"
   ]
  },
  {
   "cell_type": "markdown",
   "id": "716e99be-4491-4572-892b-175880e48041",
   "metadata": {},
   "source": [
    "### Adam eniyileme"
   ]
  },
  {
   "cell_type": "code",
   "execution_count": 21,
   "id": "5ca2a8e3-d0b0-4605-a708-eac2b67b8ee2",
   "metadata": {},
   "outputs": [],
   "source": [
    "model.compile(optimizer='Adam', loss='categorical_crossentropy', metrics=['accuracy'])"
   ]
  },
  {
   "cell_type": "markdown",
   "id": "01d5bf18-45f8-4c80-acf2-e666046d628a",
   "metadata": {},
   "source": [
    "## Öğrenme oranı belirleme ve erken durdurma "
   ]
  },
  {
   "cell_type": "code",
   "execution_count": 22,
   "id": "65ff5c88-8622-488c-a281-ca87d9dbdfa6",
   "metadata": {},
   "outputs": [],
   "source": [
    "early_stopping = EarlyStopping(monitor='val_loss', patience=10)\n",
    "reduce_lr = ReduceLROnPlateau(monitor='val_loss', factor=0.2, patience=3, min_lr=0.00001)"
   ]
  },
  {
   "cell_type": "markdown",
   "id": "974f4564-6863-45fc-8713-ecb5cfeee027",
   "metadata": {},
   "source": [
    "## Modeli eğitme ve modelin performansını değerlendirme"
   ]
  },
  {
   "cell_type": "code",
   "execution_count": 23,
   "id": "f0c0fccf-b33f-4647-823b-9855a810ab93",
   "metadata": {},
   "outputs": [
    {
     "name": "stdout",
     "output_type": "stream",
     "text": [
      "Epoch 1/50\n",
      "\u001b[1m704/704\u001b[0m \u001b[32m━━━━━━━━━━━━━━━━━━━━\u001b[0m\u001b[37m\u001b[0m \u001b[1m119s\u001b[0m 159ms/step - accuracy: 0.2969 - loss: 2.2051 - val_accuracy: 0.4464 - val_loss: 1.5706 - learning_rate: 0.0010\n",
      "Epoch 2/50\n",
      "\u001b[1m704/704\u001b[0m \u001b[32m━━━━━━━━━━━━━━━━━━━━\u001b[0m\u001b[37m\u001b[0m \u001b[1m57s\u001b[0m 81ms/step - accuracy: 0.4533 - loss: 1.5023 - val_accuracy: 0.5290 - val_loss: 1.3055 - learning_rate: 0.0010\n",
      "Epoch 3/50\n",
      "\u001b[1m704/704\u001b[0m \u001b[32m━━━━━━━━━━━━━━━━━━━━\u001b[0m\u001b[37m\u001b[0m \u001b[1m81s\u001b[0m 115ms/step - accuracy: 0.5136 - loss: 1.3534 - val_accuracy: 0.5828 - val_loss: 1.1424 - learning_rate: 0.0010\n",
      "Epoch 4/50\n",
      "\u001b[1m704/704\u001b[0m \u001b[32m━━━━━━━━━━━━━━━━━━━━\u001b[0m\u001b[37m\u001b[0m \u001b[1m78s\u001b[0m 110ms/step - accuracy: 0.5496 - loss: 1.2620 - val_accuracy: 0.6060 - val_loss: 1.0931 - learning_rate: 0.0010\n",
      "Epoch 5/50\n",
      "\u001b[1m704/704\u001b[0m \u001b[32m━━━━━━━━━━━━━━━━━━━━\u001b[0m\u001b[37m\u001b[0m \u001b[1m93s\u001b[0m 131ms/step - accuracy: 0.5766 - loss: 1.1873 - val_accuracy: 0.6436 - val_loss: 0.9787 - learning_rate: 0.0010\n",
      "Epoch 6/50\n",
      "\u001b[1m704/704\u001b[0m \u001b[32m━━━━━━━━━━━━━━━━━━━━\u001b[0m\u001b[37m\u001b[0m \u001b[1m88s\u001b[0m 125ms/step - accuracy: 0.5961 - loss: 1.1450 - val_accuracy: 0.6716 - val_loss: 0.9195 - learning_rate: 0.0010\n",
      "Epoch 7/50\n",
      "\u001b[1m704/704\u001b[0m \u001b[32m━━━━━━━━━━━━━━━━━━━━\u001b[0m\u001b[37m\u001b[0m \u001b[1m61s\u001b[0m 86ms/step - accuracy: 0.6037 - loss: 1.1242 - val_accuracy: 0.6658 - val_loss: 0.9457 - learning_rate: 0.0010\n",
      "Epoch 8/50\n",
      "\u001b[1m704/704\u001b[0m \u001b[32m━━━━━━━━━━━━━━━━━━━━\u001b[0m\u001b[37m\u001b[0m \u001b[1m47s\u001b[0m 66ms/step - accuracy: 0.6177 - loss: 1.0773 - val_accuracy: 0.6840 - val_loss: 0.8828 - learning_rate: 0.0010\n",
      "Epoch 9/50\n",
      "\u001b[1m704/704\u001b[0m \u001b[32m━━━━━━━━━━━━━━━━━━━━\u001b[0m\u001b[37m\u001b[0m \u001b[1m71s\u001b[0m 100ms/step - accuracy: 0.6290 - loss: 1.0494 - val_accuracy: 0.6916 - val_loss: 0.8421 - learning_rate: 0.0010\n",
      "Epoch 10/50\n",
      "\u001b[1m704/704\u001b[0m \u001b[32m━━━━━━━━━━━━━━━━━━━━\u001b[0m\u001b[37m\u001b[0m \u001b[1m93s\u001b[0m 132ms/step - accuracy: 0.6344 - loss: 1.0411 - val_accuracy: 0.6982 - val_loss: 0.8463 - learning_rate: 0.0010\n",
      "Epoch 11/50\n",
      "\u001b[1m704/704\u001b[0m \u001b[32m━━━━━━━━━━━━━━━━━━━━\u001b[0m\u001b[37m\u001b[0m \u001b[1m92s\u001b[0m 130ms/step - accuracy: 0.6474 - loss: 1.0119 - val_accuracy: 0.7056 - val_loss: 0.8299 - learning_rate: 0.0010\n",
      "Epoch 12/50\n",
      "\u001b[1m704/704\u001b[0m \u001b[32m━━━━━━━━━━━━━━━━━━━━\u001b[0m\u001b[37m\u001b[0m \u001b[1m92s\u001b[0m 131ms/step - accuracy: 0.6471 - loss: 1.0103 - val_accuracy: 0.7136 - val_loss: 0.8179 - learning_rate: 0.0010\n",
      "Epoch 13/50\n",
      "\u001b[1m704/704\u001b[0m \u001b[32m━━━━━━━━━━━━━━━━━━━━\u001b[0m\u001b[37m\u001b[0m \u001b[1m98s\u001b[0m 139ms/step - accuracy: 0.6534 - loss: 0.9943 - val_accuracy: 0.7044 - val_loss: 0.8133 - learning_rate: 0.0010\n",
      "Epoch 14/50\n",
      "\u001b[1m704/704\u001b[0m \u001b[32m━━━━━━━━━━━━━━━━━━━━\u001b[0m\u001b[37m\u001b[0m \u001b[1m111s\u001b[0m 158ms/step - accuracy: 0.6622 - loss: 0.9727 - val_accuracy: 0.7200 - val_loss: 0.7881 - learning_rate: 0.0010\n",
      "Epoch 15/50\n",
      "\u001b[1m704/704\u001b[0m \u001b[32m━━━━━━━━━━━━━━━━━━━━\u001b[0m\u001b[37m\u001b[0m \u001b[1m93s\u001b[0m 132ms/step - accuracy: 0.6626 - loss: 0.9660 - val_accuracy: 0.7194 - val_loss: 0.7987 - learning_rate: 0.0010\n",
      "Epoch 16/50\n",
      "\u001b[1m704/704\u001b[0m \u001b[32m━━━━━━━━━━━━━━━━━━━━\u001b[0m\u001b[37m\u001b[0m \u001b[1m91s\u001b[0m 129ms/step - accuracy: 0.6673 - loss: 0.9539 - val_accuracy: 0.7274 - val_loss: 0.7702 - learning_rate: 0.0010\n",
      "Epoch 17/50\n",
      "\u001b[1m704/704\u001b[0m \u001b[32m━━━━━━━━━━━━━━━━━━━━\u001b[0m\u001b[37m\u001b[0m \u001b[1m92s\u001b[0m 131ms/step - accuracy: 0.6711 - loss: 0.9414 - val_accuracy: 0.7160 - val_loss: 0.7642 - learning_rate: 0.0010\n",
      "Epoch 18/50\n",
      "\u001b[1m704/704\u001b[0m \u001b[32m━━━━━━━━━━━━━━━━━━━━\u001b[0m\u001b[37m\u001b[0m \u001b[1m54s\u001b[0m 77ms/step - accuracy: 0.6772 - loss: 0.9266 - val_accuracy: 0.7352 - val_loss: 0.7528 - learning_rate: 0.0010\n",
      "Epoch 19/50\n",
      "\u001b[1m704/704\u001b[0m \u001b[32m━━━━━━━━━━━━━━━━━━━━\u001b[0m\u001b[37m\u001b[0m \u001b[1m37s\u001b[0m 52ms/step - accuracy: 0.6808 - loss: 0.9311 - val_accuracy: 0.7362 - val_loss: 0.7455 - learning_rate: 0.0010\n",
      "Epoch 20/50\n",
      "\u001b[1m704/704\u001b[0m \u001b[32m━━━━━━━━━━━━━━━━━━━━\u001b[0m\u001b[37m\u001b[0m \u001b[1m38s\u001b[0m 54ms/step - accuracy: 0.6812 - loss: 0.9164 - val_accuracy: 0.7378 - val_loss: 0.7284 - learning_rate: 0.0010\n",
      "Epoch 21/50\n",
      "\u001b[1m704/704\u001b[0m \u001b[32m━━━━━━━━━━━━━━━━━━━━\u001b[0m\u001b[37m\u001b[0m \u001b[1m37s\u001b[0m 53ms/step - accuracy: 0.6784 - loss: 0.9176 - val_accuracy: 0.7330 - val_loss: 0.7379 - learning_rate: 0.0010\n",
      "Epoch 22/50\n",
      "\u001b[1m704/704\u001b[0m \u001b[32m━━━━━━━━━━━━━━━━━━━━\u001b[0m\u001b[37m\u001b[0m \u001b[1m37s\u001b[0m 53ms/step - accuracy: 0.6821 - loss: 0.9101 - val_accuracy: 0.7546 - val_loss: 0.7006 - learning_rate: 0.0010\n",
      "Epoch 23/50\n",
      "\u001b[1m704/704\u001b[0m \u001b[32m━━━━━━━━━━━━━━━━━━━━\u001b[0m\u001b[37m\u001b[0m \u001b[1m38s\u001b[0m 54ms/step - accuracy: 0.6850 - loss: 0.8984 - val_accuracy: 0.7370 - val_loss: 0.7359 - learning_rate: 0.0010\n",
      "Epoch 24/50\n",
      "\u001b[1m704/704\u001b[0m \u001b[32m━━━━━━━━━━━━━━━━━━━━\u001b[0m\u001b[37m\u001b[0m \u001b[1m38s\u001b[0m 53ms/step - accuracy: 0.6882 - loss: 0.8885 - val_accuracy: 0.7322 - val_loss: 0.7383 - learning_rate: 0.0010\n",
      "Epoch 25/50\n",
      "\u001b[1m704/704\u001b[0m \u001b[32m━━━━━━━━━━━━━━━━━━━━\u001b[0m\u001b[37m\u001b[0m \u001b[1m38s\u001b[0m 53ms/step - accuracy: 0.6868 - loss: 0.9015 - val_accuracy: 0.7452 - val_loss: 0.6966 - learning_rate: 0.0010\n",
      "Epoch 26/50\n",
      "\u001b[1m704/704\u001b[0m \u001b[32m━━━━━━━━━━━━━━━━━━━━\u001b[0m\u001b[37m\u001b[0m \u001b[1m38s\u001b[0m 54ms/step - accuracy: 0.6908 - loss: 0.8868 - val_accuracy: 0.7414 - val_loss: 0.7156 - learning_rate: 0.0010\n",
      "Epoch 27/50\n",
      "\u001b[1m704/704\u001b[0m \u001b[32m━━━━━━━━━━━━━━━━━━━━\u001b[0m\u001b[37m\u001b[0m \u001b[1m41s\u001b[0m 58ms/step - accuracy: 0.6944 - loss: 0.8844 - val_accuracy: 0.7406 - val_loss: 0.7271 - learning_rate: 0.0010\n",
      "Epoch 28/50\n",
      "\u001b[1m704/704\u001b[0m \u001b[32m━━━━━━━━━━━━━━━━━━━━\u001b[0m\u001b[37m\u001b[0m \u001b[1m46s\u001b[0m 66ms/step - accuracy: 0.6938 - loss: 0.8789 - val_accuracy: 0.7494 - val_loss: 0.7042 - learning_rate: 0.0010\n",
      "Epoch 29/50\n",
      "\u001b[1m704/704\u001b[0m \u001b[32m━━━━━━━━━━━━━━━━━━━━\u001b[0m\u001b[37m\u001b[0m \u001b[1m47s\u001b[0m 66ms/step - accuracy: 0.7040 - loss: 0.8487 - val_accuracy: 0.7548 - val_loss: 0.6845 - learning_rate: 2.0000e-04\n",
      "Epoch 30/50\n",
      "\u001b[1m704/704\u001b[0m \u001b[32m━━━━━━━━━━━━━━━━━━━━\u001b[0m\u001b[37m\u001b[0m \u001b[1m42s\u001b[0m 59ms/step - accuracy: 0.7119 - loss: 0.8391 - val_accuracy: 0.7620 - val_loss: 0.6713 - learning_rate: 2.0000e-04\n",
      "Epoch 31/50\n",
      "\u001b[1m704/704\u001b[0m \u001b[32m━━━━━━━━━━━━━━━━━━━━\u001b[0m\u001b[37m\u001b[0m \u001b[1m39s\u001b[0m 55ms/step - accuracy: 0.7062 - loss: 0.8384 - val_accuracy: 0.7582 - val_loss: 0.6684 - learning_rate: 2.0000e-04\n",
      "Epoch 32/50\n",
      "\u001b[1m704/704\u001b[0m \u001b[32m━━━━━━━━━━━━━━━━━━━━\u001b[0m\u001b[37m\u001b[0m \u001b[1m39s\u001b[0m 56ms/step - accuracy: 0.7107 - loss: 0.8352 - val_accuracy: 0.7688 - val_loss: 0.6366 - learning_rate: 2.0000e-04\n",
      "Epoch 33/50\n",
      "\u001b[1m704/704\u001b[0m \u001b[32m━━━━━━━━━━━━━━━━━━━━\u001b[0m\u001b[37m\u001b[0m \u001b[1m42s\u001b[0m 60ms/step - accuracy: 0.7142 - loss: 0.8198 - val_accuracy: 0.7518 - val_loss: 0.6770 - learning_rate: 2.0000e-04\n",
      "Epoch 34/50\n",
      "\u001b[1m704/704\u001b[0m \u001b[32m━━━━━━━━━━━━━━━━━━━━\u001b[0m\u001b[37m\u001b[0m \u001b[1m39s\u001b[0m 56ms/step - accuracy: 0.7181 - loss: 0.8127 - val_accuracy: 0.7588 - val_loss: 0.6629 - learning_rate: 2.0000e-04\n",
      "Epoch 35/50\n",
      "\u001b[1m704/704\u001b[0m \u001b[32m━━━━━━━━━━━━━━━━━━━━\u001b[0m\u001b[37m\u001b[0m \u001b[1m38s\u001b[0m 54ms/step - accuracy: 0.7129 - loss: 0.8200 - val_accuracy: 0.7646 - val_loss: 0.6400 - learning_rate: 2.0000e-04\n",
      "Epoch 36/50\n",
      "\u001b[1m704/704\u001b[0m \u001b[32m━━━━━━━━━━━━━━━━━━━━\u001b[0m\u001b[37m\u001b[0m \u001b[1m38s\u001b[0m 53ms/step - accuracy: 0.7181 - loss: 0.8178 - val_accuracy: 0.7618 - val_loss: 0.6558 - learning_rate: 4.0000e-05\n",
      "Epoch 37/50\n",
      "\u001b[1m704/704\u001b[0m \u001b[32m━━━━━━━━━━━━━━━━━━━━\u001b[0m\u001b[37m\u001b[0m \u001b[1m36s\u001b[0m 51ms/step - accuracy: 0.7176 - loss: 0.8165 - val_accuracy: 0.7612 - val_loss: 0.6570 - learning_rate: 4.0000e-05\n",
      "Epoch 38/50\n",
      "\u001b[1m704/704\u001b[0m \u001b[32m━━━━━━━━━━━━━━━━━━━━\u001b[0m\u001b[37m\u001b[0m \u001b[1m37s\u001b[0m 52ms/step - accuracy: 0.7182 - loss: 0.8076 - val_accuracy: 0.7610 - val_loss: 0.6537 - learning_rate: 4.0000e-05\n",
      "Epoch 39/50\n",
      "\u001b[1m704/704\u001b[0m \u001b[32m━━━━━━━━━━━━━━━━━━━━\u001b[0m\u001b[37m\u001b[0m \u001b[1m39s\u001b[0m 55ms/step - accuracy: 0.7171 - loss: 0.8174 - val_accuracy: 0.7596 - val_loss: 0.6579 - learning_rate: 1.0000e-05\n",
      "Epoch 40/50\n",
      "\u001b[1m704/704\u001b[0m \u001b[32m━━━━━━━━━━━━━━━━━━━━\u001b[0m\u001b[37m\u001b[0m \u001b[1m37s\u001b[0m 52ms/step - accuracy: 0.7191 - loss: 0.8127 - val_accuracy: 0.7626 - val_loss: 0.6502 - learning_rate: 1.0000e-05\n",
      "Epoch 41/50\n",
      "\u001b[1m704/704\u001b[0m \u001b[32m━━━━━━━━━━━━━━━━━━━━\u001b[0m\u001b[37m\u001b[0m \u001b[1m38s\u001b[0m 54ms/step - accuracy: 0.7225 - loss: 0.8058 - val_accuracy: 0.7608 - val_loss: 0.6537 - learning_rate: 1.0000e-05\n",
      "Epoch 42/50\n",
      "\u001b[1m704/704\u001b[0m \u001b[32m━━━━━━━━━━━━━━━━━━━━\u001b[0m\u001b[37m\u001b[0m \u001b[1m36s\u001b[0m 52ms/step - accuracy: 0.7218 - loss: 0.8078 - val_accuracy: 0.7612 - val_loss: 0.6541 - learning_rate: 1.0000e-05\n",
      "\u001b[1m313/313\u001b[0m \u001b[32m━━━━━━━━━━━━━━━━━━━━\u001b[0m\u001b[37m\u001b[0m \u001b[1m2s\u001b[0m 6ms/step - accuracy: 0.7646 - loss: 0.6729\n",
      "Test accuracy: 0.7650\n",
      "\u001b[1m313/313\u001b[0m \u001b[32m━━━━━━━━━━━━━━━━━━━━\u001b[0m\u001b[37m\u001b[0m \u001b[1m2s\u001b[0m 6ms/step\n",
      "F1 Score: 0.7585\n"
     ]
    }
   ],
   "source": [
    "history = model.fit(datagen.flow(x_train, y_train, batch_size=64),\n",
    "                    epochs=50, validation_data=(x_val, y_val),\n",
    "                    callbacks=[early_stopping, reduce_lr])\n",
    "\n",
    "\n",
    "test_loss, test_accuracy = model.evaluate(x_test, y_test)\n",
    "print(f'Test accuracy: {test_accuracy:.4f}')\n",
    "\n",
    "y_pred = model.predict(x_test)\n",
    "y_pred_classes = np.argmax(y_pred, axis=1)  # Tahmin edilen sınıflar\n",
    "y_true = np.argmax(y_test, axis=1)          # Gerçek sınıflar\n",
    "\n",
    "f1 = f1_score(y_true, y_pred_classes, average='weighted')\n",
    "print(f'F1 Score: {f1:.4f}')\n"
   ]
  },
  {
   "cell_type": "code",
   "execution_count": null,
   "id": "42c2c694-2b54-48fd-8da1-5b083cfb9d1d",
   "metadata": {},
   "outputs": [],
   "source": []
  }
 ],
 "metadata": {
  "kernelspec": {
   "display_name": "Python 3 (ipykernel)",
   "language": "python",
   "name": "python3"
  },
  "language_info": {
   "codemirror_mode": {
    "name": "ipython",
    "version": 3
   },
   "file_extension": ".py",
   "mimetype": "text/x-python",
   "name": "python",
   "nbconvert_exporter": "python",
   "pygments_lexer": "ipython3",
   "version": "3.12.4"
  }
 },
 "nbformat": 4,
 "nbformat_minor": 5
}
